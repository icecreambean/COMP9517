{
 "cells": [
  {
   "cell_type": "code",
   "execution_count": 2,
   "metadata": {},
   "outputs": [],
   "source": [
    "import numpy as np\n",
    "import cv2\n",
    "import matplotlib.pyplot as plt\n",
    "import os\n",
    "\n",
    "plt.rcParams['figure.figsize'] = (15,15)\n",
    "plt.rcParams.update({'font.size': 12})"
   ]
  },
  {
   "cell_type": "code",
   "execution_count": 3,
   "metadata": {},
   "outputs": [],
   "source": [
    "DIR = 'Individual_Component'\n",
    "RUN_PRETRAINED = True"
   ]
  },
  {
   "cell_type": "code",
   "execution_count": 4,
   "metadata": {},
   "outputs": [],
   "source": [
    "# Load dataset (all imgs WxH: 64x80)"
   ]
  },
  {
   "cell_type": "code",
   "execution_count": null,
   "metadata": {},
   "outputs": [],
   "source": [
    "# Attempt 1: pre-trained OpenCV: HOG + Linear SVM model\n",
    "# Wk 3 Lectures: https://www.pyimagesearch.com/2015/11/09/pedestrian-detection-opencv/\n",
    "if RUN_PRETRAINED:\n",
    "    hog = cv2.HOGDescriptor()\n",
    "    hog.setSVMDetector(cv2.HOGDescriptor_getDefaultPeopleDetector())\n",
    "\n",
    "    # load example image\n",
    "    fn = 'item_00000000.pnm'\n",
    "    fp = os.path.join(DIR,'test','test_positive','00000000', fn)\n",
    "    img = cv2.imread(fp)\n",
    "    \n",
    "    (rects, weights) = hog.detectMultiScale(img, winStride=(4, 4), \n",
    "                                            padding=(8, 8), scale=1.05)\n",
    "    # draw the original bounding boxes\n",
    "    for (x, y, w, h) in rects:\n",
    "        cv2.rectangle(orig, (x, y), (x + w, y + h), (0,0,255), 2)\n",
    "    \n",
    "#     # apply non-maxima suppression to the bounding boxes using a\n",
    "#     # fairly large overlap threshold to try to maintain overlapping\n",
    "#     # boxes that are still people\n",
    "#     rects = np.array([[x, y, x + w, y + h] for (x, y, w, h) in rects])\n",
    "#     pick = non_max_suppression(rects, probs=None, overlapThresh=0.65)\n",
    "#     # draw the final bounding boxes\n",
    "#     for (xA, yA, xB, yB) in pick:\n",
    "#         cv2.rectangle(img, (xA, yA), (xB, yB), (0, 255, 0), 2)\n",
    "    \n",
    "    # show result\n",
    "    plt.imshow(cv2.cvtColor(img, cv2.COLOR_BGR2RGB))\n",
    "    plt.title('{}: #rects={}, #pick={}'.format(fn, len(rects), len(pick)))"
   ]
  },
  {
   "cell_type": "code",
   "execution_count": null,
   "metadata": {},
   "outputs": [],
   "source": []
  },
  {
   "cell_type": "code",
   "execution_count": null,
   "metadata": {},
   "outputs": [],
   "source": []
  }
 ],
 "metadata": {
  "kernelspec": {
   "display_name": "Python 3",
   "language": "python",
   "name": "python3"
  },
  "language_info": {
   "codemirror_mode": {
    "name": "ipython",
    "version": 3
   },
   "file_extension": ".py",
   "mimetype": "text/x-python",
   "name": "python",
   "nbconvert_exporter": "python",
   "pygments_lexer": "ipython3",
   "version": "3.7.4"
  }
 },
 "nbformat": 4,
 "nbformat_minor": 2
}
