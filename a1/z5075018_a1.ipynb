{
 "cells": [
  {
   "cell_type": "code",
   "execution_count": 28,
   "metadata": {},
   "outputs": [],
   "source": [
    "import cv2\n",
    "import numpy as np\n",
    "import matplotlib.pyplot as plt\n",
    "import os\n",
    "\n",
    "plt.rcParams['figure.figsize'] = (10,10)\n",
    "plt.rcParams.update({'font.size': 12})"
   ]
  },
  {
   "cell_type": "code",
   "execution_count": 32,
   "metadata": {},
   "outputs": [
    {
     "data": {
      "text/plain": [
       "(array([0], dtype=int64), array([0], dtype=int64))"
      ]
     },
     "execution_count": 32,
     "metadata": {},
     "output_type": "execute_result"
    }
   ],
   "source": [
    "def getImageComponents(fp):\n",
    "    img = cv2.imread(fp, cv2.IMREAD_GRAYSCALE)\n",
    "    nrows = img.shape[0]\n",
    "    height = int(np.ceil(nrows/3))\n",
    "    g_start = int(np.round((nrows - height)/2))\n",
    "    \n",
    "    #b,g,r = np.split(img, 3)\n",
    "    b = img[:height, :]#,:]\n",
    "    g = img[g_start:g_start+height, :]#,:]\n",
    "    r = img[-height:, :]#,:]\n",
    "    return b,g,r\n",
    "\n",
    "DIRECTORY = 'DataSamples'\n",
    "fp = os.path.join(DIRECTORY, 's1.jpg')\n",
    "b,g,r = getImageComponents(fp)\n",
    "\n",
    "# perform image alignment\n",
    "res = cv2.matchTemplate(b,g,cv2.TM_CCOEFF_NORMED)\n",
    "loc = np.where(res >= 0.8)\n",
    "loc\n",
    "#https://www.pyimagesearch.com/2014/09/15/python-compare-two-images/\n",
    "\n",
    "#color_img = cv2.merge((b,g,r))\n",
    "#plt.imshow(color_img)"
   ]
  },
  {
   "cell_type": "code",
   "execution_count": 9,
   "metadata": {},
   "outputs": [
    {
     "data": {
      "text/plain": [
       "array([[[1],\n",
       "        [2],\n",
       "        [3]]])"
      ]
     },
     "execution_count": 9,
     "metadata": {},
     "output_type": "execute_result"
    }
   ],
   "source": [
    "a = np.array([[[1],[2],[3]],[[4],[5],[6]],[[7],[8],[9]]])\n",
    "b,c,d = np.split(a,3)\n",
    "b"
   ]
  },
  {
   "cell_type": "code",
   "execution_count": 15,
   "metadata": {},
   "outputs": [
    {
     "data": {
      "text/plain": [
       "34.0"
      ]
     },
     "execution_count": 15,
     "metadata": {},
     "output_type": "execute_result"
    }
   ],
   "source": [
    "a = [1,2,3,4,5]\n",
    "a[-2:]\n",
    "np.round(34.4)"
   ]
  },
  {
   "cell_type": "code",
   "execution_count": null,
   "metadata": {},
   "outputs": [],
   "source": []
  }
 ],
 "metadata": {
  "kernelspec": {
   "display_name": "Python 3",
   "language": "python",
   "name": "python3"
  },
  "language_info": {
   "codemirror_mode": {
    "name": "ipython",
    "version": 3
   },
   "file_extension": ".py",
   "mimetype": "text/x-python",
   "name": "python",
   "nbconvert_exporter": "python",
   "pygments_lexer": "ipython3",
   "version": "3.7.4"
  }
 },
 "nbformat": 4,
 "nbformat_minor": 2
}
