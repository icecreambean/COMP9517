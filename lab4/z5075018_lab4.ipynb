{
 "cells": [
  {
   "cell_type": "code",
   "execution_count": 17,
   "metadata": {},
   "outputs": [],
   "source": [
    "from sklearn import metrics\n",
    "from sklearn.datasets import load_digits\n",
    "from sklearn.model_selection import train_test_split\n",
    "from sklearn.neighbors import KNeighborsClassifier\n",
    "from sklearn.linear_model import SGDClassifier\n",
    "from sklearn.tree import DecisionTreeClassifier\n",
    "\n",
    "import numpy as np\n",
    "import matplotlib.pyplot as plt\n",
    "\n",
    "plt.rcParams['figure.figsize'] = (15,15)\n",
    "plt.rcParams.update({'font.size': 12})"
   ]
  },
  {
   "cell_type": "code",
   "execution_count": 18,
   "metadata": {},
   "outputs": [
    {
     "data": {
      "image/png": "[encoded data removed]",
      "text/plain": [
       "<Figure size 1080x1080 with 10 Axes>"
      ]
     },
     "metadata": {
      "needs_background": "light"
     },
     "output_type": "display_data"
    }
   ],
   "source": [
    "digits = load_digits()\n",
    "for i in range(10):\n",
    "    plt.subplot(2,5,i+1)\n",
    "    plt.imshow(np.reshape(digits.data[i], (8, 8)), cmap='gray')\n",
    "    plt.title('Label: %i\\n' % digits.target[i])#, fontsize=25)\n",
    "    \n",
    "# https://archive.ics.uci.edu/ml/datasets/Pen-Based+Recognition+of+Handwritten+Digits\n",
    "# dataset contains 8x8 images of various peoples' handwriting of 0-9 (random order)"
   ]
  },
  {
   "cell_type": "code",
   "execution_count": 19,
   "metadata": {},
   "outputs": [
    {
     "name": "stdout",
     "output_type": "stream",
     "text": [
      "Key: 0, Val: 178\n",
      "Key: 1, Val: 182\n",
      "Key: 2, Val: 177\n",
      "Key: 3, Val: 183\n",
      "Key: 4, Val: 181\n",
      "Key: 5, Val: 182\n",
      "Key: 6, Val: 181\n",
      "Key: 7, Val: 179\n",
      "Key: 8, Val: 174\n",
      "Key: 9, Val: 180\n",
      "Total: 1797\n"
     ]
    }
   ],
   "source": [
    "#ndigits, area = digits.data.shape\n",
    "# (1797 images; each 8x8 pixels)\n",
    "unique_keys, counts = np.unique(digits.target, return_counts=True)\n",
    "for i in range(len(unique_keys)):\n",
    "    print('Key: {}, Val: {}'.format(unique_keys[i], counts[i]))\n",
    "print('Total:', sum(counts))\n",
    "#dict(zip(unique_keys,counts))"
   ]
  },
  {
   "cell_type": "code",
   "execution_count": 20,
   "metadata": {},
   "outputs": [],
   "source": [
    "# feature vector: entire image. label vector.\n",
    "# NOTE: random state is currently 42, not random!\n",
    "test_size = 0.25\n",
    "X_train, X_test, y_train, y_test = train_test_split(digits.data, digits.target, test_size=test_size, random_state=42)"
   ]
  },
  {
   "cell_type": "code",
   "execution_count": 21,
   "metadata": {},
   "outputs": [],
   "source": [
    "# KNN\n",
    "knn_neighbors = 6\n",
    "knn_classifier = KNeighborsClassifier(n_neighbors=knn_neighbors)\n",
    "knn_classifier.fit(X_train, y_train) # training\n",
    "knn_y_pred = knn_classifier.predict(X_test) # testing\n",
    "# (compare knn_testres with y_test)"
   ]
  },
  {
   "cell_type": "code",
   "execution_count": 22,
   "metadata": {},
   "outputs": [],
   "source": [
    "# SGD (linear regression function; default method is 'hinge' (SVN))\n",
    "sgd_classifier = SGDClassifier()\n",
    "sgd_classifier.fit(X_train, y_train)\n",
    "sgd_y_pred = sgd_classifier.predict(X_test)"
   ]
  },
  {
   "cell_type": "code",
   "execution_count": 23,
   "metadata": {},
   "outputs": [],
   "source": [
    "# DT\n",
    "dt_classifier = DecisionTreeClassifier(criterion='entropy')\n",
    "dt_classifier.fit(X_train, y_train)\n",
    "dt_y_pred = dt_classifier.predict(X_test)"
   ]
  },
  {
   "cell_type": "code",
   "execution_count": 24,
   "metadata": {},
   "outputs": [
    {
     "name": "stdout",
     "output_type": "stream",
     "text": [
      "COMP9517 Week 5, Lab 4 - z5075018\n",
      "\n",
      "Test size = 0.25\n",
      "KNN Accuracy:  0.996     Recall: 0.996\n",
      "SGD Accuracy:  0.960     Recall: 0.960\n",
      "DT  Accuracy:  0.869     Recall: 0.869\n",
      "\n",
      "\n",
      "KNN Confusion Matrix:\n",
      "[[43  0  0  0  0  0  0  0  0  0]\n",
      " [ 0 37  0  0  0  0  0  0  0  0]\n",
      " [ 0  0 38  0  0  0  0  0  0  0]\n",
      " [ 0  0  0 46  0  0  0  0  0  0]\n",
      " [ 0  0  0  0 55  0  0  0  0  0]\n",
      " [ 0  0  0  0  0 59  0  0  0  0]\n",
      " [ 0  0  0  0  0  0 45  0  0  0]\n",
      " [ 0  0  0  0  0  0  0 41  0  0]\n",
      " [ 0  0  0  0  0  0  0  0 38  0]\n",
      " [ 0  0  0  0  1  1  0  0  0 46]]\n",
      "\n",
      "\n",
      "SGD Confusion Matrix:\n",
      "[[42  0  0  0  0  0  0  1  0  0]\n",
      " [ 0 34  2  0  0  0  0  0  1  0]\n",
      " [ 0  0 38  0  0  0  0  0  0  0]\n",
      " [ 0  0  0 45  0  0  0  0  1  0]\n",
      " [ 0  0  0  0 54  0  1  0  0  0]\n",
      " [ 0  0  0  0  0 58  1  0  0  0]\n",
      " [ 0  0  0  0  0  1 44  0  0  0]\n",
      " [ 0  0  0  0  0  1  0 40  0  0]\n",
      " [ 0  1  0  2  0  0  0  0 35  0]\n",
      " [ 0  0  0  3  0  1  0  0  2 42]]\n",
      "\n",
      "\n",
      "DT Confusion Matrix:\n",
      "[[41  0  0  0  1  0  0  1  0  0]\n",
      " [ 0 33  2  0  0  0  0  0  0  2]\n",
      " [ 0  3 29  1  0  0  0  2  2  1]\n",
      " [ 0  1  2 39  1  0  0  0  1  2]\n",
      " [ 0  2  0  0 45  3  1  0  1  3]\n",
      " [ 0  1  1  0  1 54  1  0  1  0]\n",
      " [ 1  0  0  0  2  0 42  0  0  0]\n",
      " [ 1  0  1  0  1  0  0 36  2  0]\n",
      " [ 0  0  1  1  1  2  0  4 29  0]\n",
      " [ 0  0  0  2  1  0  0  2  0 43]]\n"
     ]
    }
   ],
   "source": [
    "# accuracy, recall, confusion matrix\n",
    "# https://scikit-learn.org/stable/auto_examples/model_selection/plot_precision_recall.html\n",
    "# https://scikit-learn.org/stable/modules/classes.html?highlight=metrics#module-sklearn.metrics\n",
    "\n",
    "print('COMP9517 Week 5, Lab 4 - z5075018\\n')\n",
    "print('Test size = {}'.format(test_size))\n",
    "\n",
    "vals = [['KNN', knn_y_pred], ['SGD', sgd_y_pred], ['DT', dt_y_pred]]\n",
    "for title, y_pred in vals:\n",
    "    print('{:3} Accuracy:  {:.3f}     Recall: {:.3f}'.format( \n",
    "        title, \n",
    "        metrics.accuracy_score(y_test, y_pred), \n",
    "        metrics.recall_score(y_test, y_pred, average='weighted') \n",
    "    ))\n",
    "\n",
    "for title, y_pred in vals:\n",
    "    print('\\n')\n",
    "    print('{} Confusion Matrix:'.format(title))\n",
    "    print(metrics.confusion_matrix(y_test, y_pred))\n",
    "\n",
    "#print('KNN Accuracy:  {:.3f}     Recall: {:.3f}'.format( metrics.accuracy_score(y_test, knn_y_pred), metrics.recall_score(y_test, knn_y_pred) ))\n",
    "#print('SGD Accuracy:  {:.3f}     Recall: {:.3f}'.format( metrics.accuracy_score(y_test, sgd_y_pred), metrics.recall_score(y_test, sgd_y_pred) ))\n",
    "#print('DT  Accuracy:  {:.3f}     Recall: {:.3f}'.format( metrics.accuracy_score(y_test,  dt_y_pred), metrics.recall_score(y_test,  dt_y_pred) ))"
   ]
  },
  {
   "cell_type": "code",
   "execution_count": 25,
   "metadata": {},
   "outputs": [
    {
     "name": "stdout",
     "output_type": "stream",
     "text": [
      "KNN[ 1] Accuracy:  0.982     Recall: 0.982\n",
      "KNN[ 2] Accuracy:  0.984     Recall: 0.984\n",
      "KNN[ 3] Accuracy:  0.987     Recall: 0.987\n",
      "KNN[ 4] Accuracy:  0.987     Recall: 0.987\n",
      "KNN[ 5] Accuracy:  0.993     Recall: 0.993\n",
      "KNN[ 6] Accuracy:  0.996     Recall: 0.996\n",
      "KNN[ 7] Accuracy:  0.993     Recall: 0.993\n",
      "KNN[ 8] Accuracy:  0.989     Recall: 0.989\n",
      "KNN[ 9] Accuracy:  0.987     Recall: 0.987\n",
      "KNN[10] Accuracy:  0.987     Recall: 0.987\n"
     ]
    }
   ],
   "source": [
    "# KNN parameter testing\n",
    "for n in range(1,11):\n",
    "    new_knn_classifier = KNeighborsClassifier(n_neighbors=n)\n",
    "    new_knn_classifier.fit(X_train, y_train) # training\n",
    "    y_pred = new_knn_classifier.predict(X_test) # testing\n",
    "    print('KNN[{:2}] Accuracy:  {:.3f}     Recall: {:.3f}'.format( \n",
    "        n, \n",
    "        metrics.accuracy_score(y_test, y_pred), \n",
    "        metrics.recall_score(y_test, y_pred, average='weighted') \n",
    "    ))\n",
    "    \n",
    "# NOTE: KNN performs best"
   ]
  },
  {
   "cell_type": "code",
   "execution_count": null,
   "metadata": {},
   "outputs": [],
   "source": []
  }
 ],
 "metadata": {
  "kernelspec": {
   "display_name": "Python 3",
   "language": "python",
   "name": "python3"
  },
  "language_info": {
   "codemirror_mode": {
    "name": "ipython",
    "version": 3
   },
   "file_extension": ".py",
   "mimetype": "text/x-python",
   "name": "python",
   "nbconvert_exporter": "python",
   "pygments_lexer": "ipython3",
   "version": "3.7.4"
  }
 },
 "nbformat": 4,
 "nbformat_minor": 2
}
