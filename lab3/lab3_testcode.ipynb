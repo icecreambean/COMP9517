{
 "cells": [
  {
   "cell_type": "code",
   "execution_count": 102,
   "metadata": {},
   "outputs": [],
   "source": [
    "\"\"\"\n",
    "COMP9517 Lab 03, Week 4 -- z5075018\n",
    "\"\"\"\n",
    "\n",
    "import numpy as np\n",
    "import matplotlib.pyplot as plt\n",
    "import matplotlib.image as mpimg\n",
    "\n",
    "from scipy import ndimage as ndi\n",
    "from skimage.morphology import watershed\n",
    "from skimage.feature import peak_local_max\n",
    "from sklearn.cluster import MeanShift\n",
    "\n",
    "from PIL import Image, ImageOps, ImageEnhance\n",
    "\n",
    "size = 100, 100\n",
    "\n",
    "img_names = [\"pics/car.png\", \"pics/shapes.png\"]\n",
    "ext_names = [\"pics/aus_coins.png\", \"pics/kiwi.png\"]\n",
    "\n",
    "images = [i for i in img_names]\n",
    "ext_images = [i for i in ext_names]\n",
    "\n",
    "\n",
    "def plot_three_images(figure_title, image1, label1,\n",
    "                      image2, label2, image3, label3):\n",
    "    fig = plt.figure()\n",
    "    fig.suptitle(figure_title)\n",
    "\n",
    "    # Display the first image\n",
    "    fig.add_subplot(1, 3, 1)\n",
    "    plt.imshow(image1, cmap=plt.get_cmap('gray'))\n",
    "    plt.axis('off')\n",
    "    plt.title(label1)\n",
    "\n",
    "    # Display the second image\n",
    "    fig.add_subplot(1, 3, 2)\n",
    "    plt.imshow(image2)\n",
    "    plt.axis('off')\n",
    "    plt.title(label2)\n",
    "\n",
    "    # Display the third image\n",
    "    fig.add_subplot(1, 3, 3)\n",
    "    plt.imshow(image3)\n",
    "    plt.axis('off')\n",
    "    plt.title(label3)\n",
    "\n",
    "    plt.show()\n",
    "\n",
    "\n",
    "#for img_path in images:\n",
    "def run_code(img_path, q2_invert=False, q2_brightval=None):\n",
    "    print('Running for:', img_path)\n",
    "    img = Image.open(img_path)\n",
    "    img.thumbnail(size)  # Convert the image to 100 x 100\n",
    "    # Convert the image to a numpy matrix\n",
    "    img_mat = np.array(img)[:, :, :3]\n",
    "\n",
    "    #\n",
    "    # +--------------------+\n",
    "    # |     Question 1     |\n",
    "    # +--------------------+\n",
    "    #\n",
    "    # TODO: perform MeanShift on image\n",
    "    # Follow the hints in the lab spec.\n",
    "\n",
    "    # Step 1 - Extract the three RGB colour channels\n",
    "    # Hint: It will be useful to store the shape of one of the colour\n",
    "    # channels so we can reshape the flattened matrix back to this shape.\n",
    "    chan_r = img_mat[:,:,0]  # (done to not interweave rgb channels w. pixels)\n",
    "    chan_g = img_mat[:,:,1]\n",
    "    chan_b = img_mat[:,:,2]\n",
    "    chan_shape = chan_r.shape\n",
    "\n",
    "    # Step 2 - Combine the three colour channels by flatten each channel \n",
    "\t# then stacking the flattened channels together.\n",
    "    # This gives the \"colour_samples\"\n",
    "    colour_samples = np.transpose( np.array([chan_r.ravel(), chan_g.ravel(), chan_b.ravel()]) )\n",
    "\n",
    "    # Step 3 - Perform Meanshift  clustering\n",
    "    # For larger images, this may take a few minutes to compute.\n",
    "    #  * Bin seeding reduces #seeds initialised; returns KMeans class\n",
    "    #  * call .fit_predict() to actually run the MeanShift alg on the img\n",
    "    ms_clf = MeanShift(bin_seeding=True)\n",
    "    ms_labels = ms_clf.fit_predict(colour_samples)\n",
    "\n",
    "    # Step 4 - reshape ms_labels back to the original image shape \n",
    "\t# for displaying the segmentation output \n",
    "    #ms_labels = []\n",
    "    ms_labels = np.reshape(ms_labels, chan_shape)\n",
    "    print(\" * MeanShift classes:\", np.unique(ms_labels))\n",
    "    \n",
    "    #%%\n",
    "    #\n",
    "    # +--------------------+\n",
    "    # |     Question 2     |\n",
    "    # +--------------------+\n",
    "    #\n",
    "\n",
    "    # TODO: perform Watershed on image\n",
    "    # Follow the hints in the lab spec.\n",
    "\n",
    "    # Step 1 - Convert the image to gray scale\n",
    "    # and convert the image to a numpy matrix\n",
    "    img_processed = img\n",
    "        \n",
    "    if q2_invert:\n",
    "        img_processed = ImageOps.invert(img)\n",
    "    \n",
    "    img_processed = img_processed.convert('L')\n",
    "    \n",
    "    if q2_brightval:\n",
    "        img_processed = ImageEnhance.Brightness(img_processed).enhance(q2_brightval)\n",
    "    \n",
    "    img_array = np.array(img_processed)\n",
    "\t\n",
    "    # Step 2 - Calculate the distance transform\n",
    "    # Hint: use     ndi.distance_transform_edt(img_array)\n",
    "    # https://scikit-image.org/docs/dev/auto_examples/segmentation/plot_watershed.html\n",
    "    distance = ndi.distance_transform_edt(img_array)\n",
    "\t\n",
    "    # Step 3 - Generate the watershed markers\n",
    "    # Hint: use the peak_local_max() function from the skimage.feature library\n",
    "    # to get the local maximum values and then convert them to markers\n",
    "    # using ndi.label() -- note the markers are the 0th output to this function\n",
    "    # https://scikit-image.org/docs/dev/auto_examples/segmentation/plot_peak_local_max.html\n",
    "    local_maxi = peak_local_max(distance, indices=False, labels=img_array)\n",
    "    markers = ndi.label(local_maxi)[0]\n",
    "\t\n",
    "    # Step 4 - Perform watershed and store the labels\n",
    "    # Hint: use the watershed() function from the skimage.morphology library\n",
    "    # with three inputs: -distance, markers and your image array as a mask\n",
    "    ws_labels =  watershed(-distance, markers, mask=img_array)\n",
    "    print(\" * Watershed classes:\", np.unique(ws_labels))\n",
    "\n",
    "    # Display the results\n",
    "    plot_three_images(img_path, img_processed, \"Processed Image\", ms_labels, \"MeanShift Labels\",\n",
    "                      ws_labels, \"Watershed Labels\")\n",
    "\n",
    "    # If you want to visualise the watershed distance markers then try\n",
    "    # plotting the code below.\n",
    "    # plot_three_images(img_path, img, \"Original Image\", -distance, \"Watershed Distance\",\n",
    "    #                   ws_labels, \"Watershed Labels\")\n",
    "    return img, img_processed, ms_clf, ms_labels, distance, markers, ws_labels\n",
    "    \n",
    "#%%\n",
    "#\n",
    "# +-------------------+\n",
    "# |     Extension     |\n",
    "# +-------------------+\n",
    "#\n",
    "# Loop for the extension component\n",
    "# for img_path in ext_images:\n",
    "#     img = Image.open(img_path)\n",
    "#     img.thumbnail(size)\n",
    "\n",
    "\n",
    "#     # TODO: perform meanshift on image\n",
    "#     ms_labels = img  # CHANGE THIS\n",
    "\n",
    "#     # TODO: perform an optimisation (pre-processing) and then watershed on image\n",
    "#     ws_labels = img  # CHANGE THIS\n",
    "\n",
    "#     # Display the results\n",
    "#     plot_three_images(img_path, img, \"Original Image\", ms_labels, \"MeanShift Labels\",\n",
    "#                       ws_labels, \"Watershed Labels\")\n"
   ]
  },
  {
   "cell_type": "code",
   "execution_count": 111,
   "metadata": {},
   "outputs": [
    {
     "name": "stdout",
     "output_type": "stream",
     "text": [
      "Running for: pics/car.png\n",
      " * MeanShift classes: [0 1 2 3 4 5]\n",
      " * Watershed classes: [ 0  1  2  3  4  5  6  7  8  9 10 11 12 13 14 15 16 17 18 19 20 21 22 23\n",
      " 24 25 26 27 28 29 30 31 32 33 34 35 36 37 38 39 40 41 42 43 44 45 46 47\n",
      " 48 49 50 51 52 53 54 55 56 57 58 59 60 61 62 63 64 65 66 67 68 69 70 71\n",
      " 72 73 74 75]\n"
     ]
    },
    {
     "data": {
      "image/png": "[encoded data removed]",
      "text/plain": [
       "<Figure size 432x288 with 3 Axes>"
      ]
     },
     "metadata": {
      "needs_background": "light"
     },
     "output_type": "display_data"
    }
   ],
   "source": [
    "#img, img_processed, ms_clf, ms_labels, distance, markers, ws_labels = run_code(images[0], True, 1)\n",
    "img, img_processed, ms_clf, ms_labels, distance, markers, ws_labels = run_code(images[0], True, 10)"
   ]
  },
  {
   "cell_type": "code",
   "execution_count": 109,
   "metadata": {},
   "outputs": [
    {
     "data": {
      "text/plain": [
       "array([ 0,  1,  2,  3,  4,  5,  6,  7,  8,  9, 10, 11, 12, 13, 14, 15, 16,\n",
       "       17, 18, 19, 20, 21, 22, 23, 24, 25, 26, 27, 28, 29, 30, 31, 32, 33,\n",
       "       34, 35, 36, 37, 38, 39, 40, 41, 42, 43, 44, 45, 46, 47, 48])"
      ]
     },
     "execution_count": 109,
     "metadata": {},
     "output_type": "execute_result"
    },
    {
     "data": {
      "image/png": "[encoded data removed]",
      "text/plain": [
       "<Figure size 432x288 with 1 Axes>"
      ]
     },
     "metadata": {
      "needs_background": "light"
     },
     "output_type": "display_data"
    }
   ],
   "source": [
    "#import cv2\n",
    "#img = cv2.cvtColor(cv2.imread(images[0]), cv2.COLOR_BGR2GRAY)\n",
    "\n",
    "# img = Image.open(images[0]).convert(\"L\")\n",
    "# img.thumbnail(size)\n",
    "# plt.imshow(img, cmap=plt.get_cmap('gray'))\n",
    "# plt.axis('off')\n",
    "\n",
    "plt.imshow(distance, cmap=plt.get_cmap('gray'))\n",
    "np.unique(markers)"
   ]
  },
  {
   "cell_type": "code",
   "execution_count": 84,
   "metadata": {},
   "outputs": [
    {
     "name": "stdout",
     "output_type": "stream",
     "text": [
      "Running for: pics/shapes.png\n",
      " * MeanShift classes: [0 1 2 3]\n",
      " * Watershed classes: [0 1 2 3 4 5 6 7]\n"
     ]
    },
    {
     "data": {
      "image/png": "[encoded data removed]",
      "text/plain": [
       "<Figure size 432x288 with 3 Axes>"
      ]
     },
     "metadata": {
      "needs_background": "light"
     },
     "output_type": "display_data"
    }
   ],
   "source": [
    "# the successful image\n",
    "img_shapes, img_processed_shapes, ms_clf_shapes, ms_labels_shapes, distance_shapes, markers_shapes, ws_labels_shapes = run_code(images[1])"
   ]
  },
  {
   "cell_type": "code",
   "execution_count": 85,
   "metadata": {},
   "outputs": [
    {
     "data": {
      "text/plain": [
       "<matplotlib.image.AxesImage at 0x21b7a11ef88>"
      ]
     },
     "execution_count": 85,
     "metadata": {},
     "output_type": "execute_result"
    },
    {
     "data": {
      "image/png": "[encoded data removed]",
      "text/plain": [
       "<Figure size 432x288 with 1 Axes>"
      ]
     },
     "metadata": {
      "needs_background": "light"
     },
     "output_type": "display_data"
    }
   ],
   "source": [
    "plt.imshow(distance_shapes, cmap=plt.get_cmap('gray'))"
   ]
  },
  {
   "cell_type": "code",
   "execution_count": 86,
   "metadata": {},
   "outputs": [
    {
     "data": {
      "text/plain": [
       "array([0, 1, 2, 3, 4, 5, 6, 7])"
      ]
     },
     "execution_count": 86,
     "metadata": {},
     "output_type": "execute_result"
    }
   ],
   "source": [
    "np.unique(markers_shapes)"
   ]
  },
  {
   "cell_type": "code",
   "execution_count": 112,
   "metadata": {},
   "outputs": [
    {
     "name": "stdout",
     "output_type": "stream",
     "text": [
      "Running for: pics/aus_coins.png\n",
      " * MeanShift classes: [0 1 2]\n",
      " * Watershed classes: [0 1 2 3]\n"
     ]
    },
    {
     "data": {
      "image/png": "[encoded data removed]",
      "text/plain": [
       "<Figure size 432x288 with 3 Axes>"
      ]
     },
     "metadata": {
      "needs_background": "light"
     },
     "output_type": "display_data"
    },
    {
     "data": {
      "text/plain": [
       "(<PIL.PngImagePlugin.PngImageFile image mode=RGB size=100x75 at 0x21B00385348>,\n",
       " <PIL.Image.Image image mode=L size=100x75 at 0x21B00299788>,\n",
       " MeanShift(bandwidth=None, bin_seeding=True, cluster_all=True, min_bin_freq=1,\n",
       "           n_jobs=None, seeds=None),\n",
       " array([[0, 0, 0, ..., 0, 0, 0],\n",
       "        [0, 0, 0, ..., 0, 0, 0],\n",
       "        [0, 0, 0, ..., 0, 0, 0],\n",
       "        ...,\n",
       "        [0, 0, 0, ..., 0, 0, 0],\n",
       "        [2, 0, 0, ..., 0, 0, 0],\n",
       "        [1, 2, 0, ..., 0, 0, 0]], dtype=int64),\n",
       " array([[0.        , 0.        , 0.        , ..., 0.        , 0.        ,\n",
       "         0.        ],\n",
       "        [0.        , 0.        , 0.        , ..., 0.        , 0.        ,\n",
       "         0.        ],\n",
       "        [0.        , 0.        , 0.        , ..., 0.        , 0.        ,\n",
       "         0.        ],\n",
       "        ...,\n",
       "        [1.        , 0.        , 0.        , ..., 0.        , 0.        ,\n",
       "         0.        ],\n",
       "        [1.        , 0.        , 0.        , ..., 0.        , 0.        ,\n",
       "         0.        ],\n",
       "        [1.41421356, 1.        , 1.        , ..., 0.        , 0.        ,\n",
       "         0.        ]]),\n",
       " array([[0, 0, 0, ..., 0, 0, 0],\n",
       "        [0, 0, 0, ..., 0, 0, 0],\n",
       "        [0, 0, 0, ..., 0, 0, 0],\n",
       "        ...,\n",
       "        [0, 0, 0, ..., 0, 0, 0],\n",
       "        [0, 0, 0, ..., 0, 0, 0],\n",
       "        [0, 0, 0, ..., 0, 0, 0]]),\n",
       " array([[0, 0, 0, ..., 0, 0, 0],\n",
       "        [0, 0, 0, ..., 0, 0, 0],\n",
       "        [0, 0, 0, ..., 0, 0, 0],\n",
       "        ...,\n",
       "        [0, 0, 0, ..., 0, 0, 0],\n",
       "        [0, 0, 0, ..., 0, 0, 0],\n",
       "        [0, 0, 0, ..., 0, 0, 0]]))"
      ]
     },
     "execution_count": 112,
     "metadata": {},
     "output_type": "execute_result"
    }
   ],
   "source": [
    "img_coins, img_processed_coins, ms_clf_coins, ms_labels_coins, distance_coins, markers_coins, ws_labels_coins = run_code(ext_images[0])"
   ]
  },
  {
   "cell_type": "code",
   "execution_count": 113,
   "metadata": {},
   "outputs": [
    {
     "name": "stdout",
     "output_type": "stream",
     "text": [
      "Running for: pics/aus_coins.png\n",
      " * MeanShift classes: [0 1 2]\n",
      " * Watershed classes: [  0   1   2   3   4   5   6   7   8   9  10  11  12  13  14  15  16  17\n",
      "  18  19  20  21  22  23  24  25  26  27  28  29  30  31  32  33  34  35\n",
      "  36  37  38  39  40  41  42  43  44  45  46  47  48  49  50  51  52  53\n",
      "  54  55  56  57  58  59  60  61  62  63  64  65  66  67  68  69  70  71\n",
      "  72  73  74  75  76  77  78  79  80  81  82  83  84  85  86  87  88  89\n",
      "  90  91  92  93  94  95  96  97  98  99 100]\n"
     ]
    },
    {
     "data": {
      "image/png": "[encoded data removed]",
      "text/plain": [
       "<Figure size 432x288 with 3 Axes>"
      ]
     },
     "metadata": {
      "needs_background": "light"
     },
     "output_type": "display_data"
    },
    {
     "data": {
      "text/plain": [
       "(<PIL.PngImagePlugin.PngImageFile image mode=RGB size=100x75 at 0x21B7A05A188>,\n",
       " <PIL.Image.Image image mode=L size=100x75 at 0x21B00FA7F08>,\n",
       " MeanShift(bandwidth=None, bin_seeding=True, cluster_all=True, min_bin_freq=1,\n",
       "           n_jobs=None, seeds=None),\n",
       " array([[0, 0, 0, ..., 0, 0, 0],\n",
       "        [0, 0, 0, ..., 0, 0, 0],\n",
       "        [0, 0, 0, ..., 0, 0, 0],\n",
       "        ...,\n",
       "        [0, 0, 0, ..., 0, 0, 0],\n",
       "        [2, 0, 0, ..., 0, 0, 0],\n",
       "        [1, 2, 0, ..., 0, 0, 0]], dtype=int64),\n",
       " array([[0.        , 0.        , 0.        , ..., 0.        , 0.        ,\n",
       "         0.        ],\n",
       "        [0.        , 0.        , 0.        , ..., 0.        , 0.        ,\n",
       "         0.        ],\n",
       "        [0.        , 0.        , 0.        , ..., 0.        , 0.        ,\n",
       "         0.        ],\n",
       "        ...,\n",
       "        [1.        , 0.        , 0.        , ..., 0.        , 0.        ,\n",
       "         0.        ],\n",
       "        [1.        , 0.        , 0.        , ..., 0.        , 0.        ,\n",
       "         0.        ],\n",
       "        [1.41421356, 1.        , 1.        , ..., 0.        , 0.        ,\n",
       "         0.        ]]),\n",
       " array([[0, 0, 0, ..., 0, 0, 0],\n",
       "        [0, 0, 0, ..., 0, 0, 0],\n",
       "        [0, 0, 0, ..., 0, 0, 0],\n",
       "        ...,\n",
       "        [0, 0, 0, ..., 0, 0, 0],\n",
       "        [0, 0, 0, ..., 0, 0, 0],\n",
       "        [0, 0, 0, ..., 0, 0, 0]]),\n",
       " array([[0, 0, 0, ..., 0, 0, 0],\n",
       "        [0, 0, 0, ..., 0, 0, 0],\n",
       "        [0, 0, 0, ..., 0, 0, 0],\n",
       "        ...,\n",
       "        [0, 0, 0, ..., 0, 0, 0],\n",
       "        [0, 0, 0, ..., 0, 0, 0],\n",
       "        [0, 0, 0, ..., 0, 0, 0]]))"
      ]
     },
     "execution_count": 113,
     "metadata": {},
     "output_type": "execute_result"
    }
   ],
   "source": [
    "img_coins, img_processed_coins, ms_clf_coins, ms_labels_coins, distance_coins, markers_coins, ws_labels_coins = run_code(ext_images[0], False, 10)"
   ]
  },
  {
   "cell_type": "code",
   "execution_count": 115,
   "metadata": {},
   "outputs": [
    {
     "name": "stdout",
     "output_type": "stream",
     "text": [
      "Running for: pics/kiwi.png\n",
      " * MeanShift classes: [0 1 2 3 4 5 6]\n",
      " * Watershed classes: [ 0  1  2  3  4  5  6  7  8  9 10 11 12 13 14 15 16 17 18 19 20 21 22 23\n",
      " 24 25 26 27 28 29 30 31 32 33 34 35 36 37 38 39 40 41 42 43 44 45 46 47\n",
      " 48 49 50 51 52 53 54 55 56 57 58 59 60 61 62 63 64 65 66 67 68 69 70 71\n",
      " 72 73 74 75 76 77 78 79 80 81 82 83 84 85 86]\n"
     ]
    },
    {
     "data": {
      "image/png": "[encoded data removed]",
      "text/plain": [
       "<Figure size 432x288 with 3 Axes>"
      ]
     },
     "metadata": {
      "needs_background": "light"
     },
     "output_type": "display_data"
    }
   ],
   "source": [
    "img_kiwi, img_processed_kiwi, ms_clf_kiwi, ms_labels_kiwi, distance_kiwi, markers_kiwi, ws_labels_kiwi = run_code(ext_images[1], False, 10)"
   ]
  },
  {
   "cell_type": "code",
   "execution_count": null,
   "metadata": {},
   "outputs": [],
   "source": []
  }
 ],
 "metadata": {
  "kernelspec": {
   "display_name": "Python 3",
   "language": "python",
   "name": "python3"
  },
  "language_info": {
   "codemirror_mode": {
    "name": "ipython",
    "version": 3
   },
   "file_extension": ".py",
   "mimetype": "text/x-python",
   "name": "python",
   "nbconvert_exporter": "python",
   "pygments_lexer": "ipython3",
   "version": "3.7.4"
  }
 },
 "nbformat": 4,
 "nbformat_minor": 2
}
